{
 "cells": [
  {
   "cell_type": "code",
   "execution_count": 1,
   "metadata": {},
   "outputs": [],
   "source": [
    "samplelist=[\"sample.1\",\"sample.2\",\"sample.3\",\"sample.4\",\"sample.5\",\"sample.6\",\"sample.7\",\"sample.8\",\"sample.9\",\"sample.10\"]\n",
    "alist=[]\n",
    "i=1\n",
    "\n",
    "# Storing each input file in an inputlist\n",
    "for files in samplelist:\n",
    "\n",
    "    with open(files,\"rb\") as f:\n",
    "        a=f.read()\n",
    "        alist.append((i,a))\n",
    "    i=i+1\n",
    "\n"
   ]
  },
  {
   "cell_type": "code",
   "execution_count": 2,
   "metadata": {},
   "outputs": [],
   "source": [
    "from itertools import combinations\n",
    "from collections import defaultdict\n",
    "ansString=\"\"\n",
    "# Dictionary to store the common strand of string wiht its length, index and sample where it was seen\n",
    "ansSamples=defaultdict(set)\n",
    "maxStrandLen=0\n",
    "\n",
    "# A common substring finding approach optimized with dynamic programming to find the longes common strand between 2 strings in O(n^2) complexity\n",
    "# Where n is the length of the input strand\n",
    "def findLongestStrand(S1,S2,n,m):\n",
    "    dp=[]\n",
    "\n",
    "    \n",
    "    for i in range(n):\n",
    "        temp=[0]*m\n",
    "        dp.append(temp)\n",
    "    ans=0\n",
    "    maxSequence=\"\"\n",
    "    iIndex=0\n",
    "    jIndex=0\n",
    "    for i in range(len(S1)):\n",
    "        for j in range(len(S2)):\n",
    "            if S1[i]==S2[j]:\n",
    "                if i==0 or j==0:\n",
    "                    dp[i][j]=1\n",
    "                    if ans<dp[i][j]:\n",
    "                        ans=dp[i][j]\n",
    "                        iIndex=i\n",
    "                        jIndex=j\n",
    "                  \n",
    "                else:\n",
    "                    dp[i][j]=dp[i-1][j-1]+1\n",
    "                    if ans<dp[i][j]:\n",
    "                        ans=dp[i][j]\n",
    "                        iIndex=i\n",
    "                        jIndex=j\n",
    "                        \n",
    "    return ans,iIndex-ans+1,jIndex-ans+1\n",
    "\n",
    "combo=combinations(alist,2)\n",
    "for c in combo:\n",
    "    ans,iIndex,jIndex=findLongestStrand(c[0][1],c[1][1],len(c[0][1]),len(c[1][1]))\n",
    "    if ans>maxStrandLen:\n",
    "        if ansString!=\"\":\n",
    "            del ansSamples[ansString]\n",
    "       \n",
    "        maxStrandLen=ans\n",
    "        ansSamples[ans].add((c[0][0],iIndex))\n",
    "        ansSamples[ans].add((c[1][0],jIndex))\n",
    "    elif ans==maxStrandLen:\n",
    "        \n",
    "        ansSamples[ans].add((c[0][0],iIndex))\n",
    "        ansSamples[ans].add((c[1][0],jIndex))\n",
    "       \n",
    "\n",
    "\n",
    "\n",
    "\n",
    "\n",
    "\n",
    "\n"
   ]
  },
  {
   "cell_type": "code",
   "execution_count": 7,
   "metadata": {},
   "outputs": [
    {
     "name": "stdout",
     "output_type": "stream",
     "text": [
      "The max length of strand is  27648\n",
      "The samples in which this strand appears [3, 2]\n",
      "The starting indices where this strand begins in the samples [17408, 3072]\n"
     ]
    }
   ],
   "source": [
    "maxans=max(ansSamples.keys())\n",
    "maxLength=maxans\n",
    "maxSamples=[i[0] for i in ansSamples[maxans]]\n",
    "startIndices=[i[1] for i in ansSamples[maxans]]\n",
    "print(\"The max length of strand is \",maxLength)\n",
    "print(\"The samples in which this strand appears\",maxSamples)\n",
    "print(\"The starting indices where this strand begins in the samples\",startIndices)"
   ]
  },
  {
   "cell_type": "code",
   "execution_count": 66,
   "metadata": {},
   "outputs": [
    {
     "data": {
      "text/plain": [
       "True"
      ]
     },
     "execution_count": 66,
     "metadata": {},
     "output_type": "execute_result"
    }
   ],
   "source": []
  },
  {
   "cell_type": "code",
   "execution_count": 69,
   "metadata": {},
   "outputs": [
    {
     "data": {
      "text/plain": [
       "set()"
      ]
     },
     "execution_count": 69,
     "metadata": {},
     "output_type": "execute_result"
    }
   ],
   "source": [
    "posAnsSamples[list(posAnsSamples.keys())[1]]"
   ]
  },
  {
   "cell_type": "code",
   "execution_count": 71,
   "metadata": {},
   "outputs": [
    {
     "data": {
      "text/plain": [
       "dict_values([{(1, 8192), (4, 6144), (5, 8192)}, set()])"
      ]
     },
     "execution_count": 71,
     "metadata": {},
     "output_type": "execute_result"
    }
   ],
   "source": [
    "posAnsSamples.values()"
   ]
  },
  {
   "cell_type": "code",
   "execution_count": 77,
   "metadata": {},
   "outputs": [
    {
     "data": {
      "text/plain": [
       "defaultdict(set, {})"
      ]
     },
     "execution_count": 77,
     "metadata": {},
     "output_type": "execute_result"
    }
   ],
   "source": []
  },
  {
   "cell_type": "code",
   "execution_count": null,
   "metadata": {},
   "outputs": [],
   "source": []
  }
 ],
 "metadata": {
  "interpreter": {
   "hash": "4679094c71e58fd5daa32654c6d4dcc218cb243910207196539a7dfc04a8a332"
  },
  "kernelspec": {
   "display_name": "Python 3.8.3 64-bit ('base': conda)",
   "language": "python",
   "name": "python3"
  },
  "language_info": {
   "codemirror_mode": {
    "name": "ipython",
    "version": 3
   },
   "file_extension": ".py",
   "mimetype": "text/x-python",
   "name": "python",
   "nbconvert_exporter": "python",
   "pygments_lexer": "ipython3",
   "version": "3.8.3"
  },
  "orig_nbformat": 4
 },
 "nbformat": 4,
 "nbformat_minor": 2
}
